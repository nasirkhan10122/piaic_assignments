{
 "cells": [
  {
   "cell_type": "code",
   "execution_count": 26,
   "metadata": {},
   "outputs": [
    {
     "name": "stdout",
     "output_type": "stream",
     "text": [
      "Input Radius: 0.5\n",
      "Area of Cirlce with radious 0.5 is 0.7857142857142857\n"
     ]
    }
   ],
   "source": [
    "#Question-1: Calculate Area of a Circle\n",
    "x=float(input(\"Input Radius: \"))\n",
    "y=(22/7)*(x**2)\n",
    "print(\"Area of Cirlce with radious\", x,\"is\", y)"
   ]
  },
  {
   "cell_type": "code",
   "execution_count": 25,
   "metadata": {},
   "outputs": [
    {
     "name": "stdout",
     "output_type": "stream",
     "text": [
      "Sample Output 1: \n",
      "Enter Number: -1\n",
      "Negative Number Entered\n",
      "\n",
      "Sample Output 2: \n",
      "Enter Number: 3\n",
      "Positive Number Entered\n",
      "\n",
      "Sample Output 3: \n",
      "Enter Number: 0\n",
      "Zero Entered\n"
     ]
    }
   ],
   "source": [
    "#Question-2: Check Number either positive,negative or zero\n",
    "print('Sample Output 1: ')\n",
    "x=float(input(\"Enter Number: \"))\n",
    "if x==0:\n",
    "    print(\"Zero Entered\")\n",
    "elif x > 0:\n",
    "    print(\"Positive Number Entered\")\n",
    "else :\n",
    "    print(\"Negative Number Entered\")\n",
    "print()\n",
    "print('Sample Output 2: ')\n",
    "x=float(input(\"Enter Number: \"))\n",
    "if x==0:\n",
    "    print(\"Zero Entered\")\n",
    "elif x > 0:\n",
    "    print(\"Positive Number Entered\")\n",
    "else :\n",
    "    print(\"Negative Number Entered\")\n",
    "print()\n",
    "print('Sample Output 3: ')\n",
    "x=float(input(\"Enter Number: \"))\n",
    "if x==0:\n",
    "    print(\"Zero Entered\")\n",
    "elif x > 0:\n",
    "    print(\"Positive Number Entered\")\n",
    "else :\n",
    "    print(\"Negative Number Entered\")\n"
   ]
  },
  {
   "cell_type": "code",
   "execution_count": 24,
   "metadata": {},
   "outputs": [
    {
     "name": "stdout",
     "output_type": "stream",
     "text": [
      "Sample Output 1: \n",
      "Enter Numerator: 7\n",
      "Enter Denominator: 4\n",
      "Number 7 is not completely divisible by 4\n",
      "\n",
      "Sample Output 2: \n",
      "Enter Numerator: 4\n",
      "Enter Denominator: 2\n",
      "Number 4 is completely divisible by 2\n"
     ]
    }
   ],
   "source": [
    "#Question-3: Divisibility Check of Two Numbers\n",
    "print(\"Sample Output 1: \")\n",
    "x=int(input(\"Enter Numerator: \"))\n",
    "y=int(input(\"Enter Denominator: \"))\n",
    "if x % y ==0:\n",
    "    print(\"Number\", x,\"is completely divisible by\", y)\n",
    "else:\n",
    "    print(\"Number\", x,\"is not completely divisible by\", y)\n",
    "print()\n",
    "print(\"Sample Output 2: \")\n",
    "x=int(input(\"Enter Numerator: \"))\n",
    "y=int(input(\"Enter Denominator: \"))\n",
    "if x % y ==0:\n",
    "    print(\"Number\", x,\"is completely divisible by\", y)\n",
    "else:\n",
    "    print(\"Number\", x,\"is not completely divisible by\", y)"
   ]
  },
  {
   "cell_type": "code",
   "execution_count": 23,
   "metadata": {},
   "outputs": [
    {
     "name": "stdout",
     "output_type": "stream",
     "text": [
      "Enter a date in (dd/mm/yy) format: 12/12/2018\n",
      "Enter a date in (dd/mm/yy) format: 16/12/2018\n",
      "There are  4 days in between  12/12/2018  and  16/12/2018\n"
     ]
    }
   ],
   "source": [
    "#Question-4: Days Calculater\n",
    "x=input(\"Enter a date in (dd/mm/yy) format: \")\n",
    "y=input(\"Enter a date in (dd/mm/yy) format: \")\n",
    "x_1 = x.split('/')\n",
    "y_1 = y.split('/')\n",
    "if x_1[2] == y_1[2]:\n",
    "    if x_1[1] == y_1[1]:\n",
    "        print('There are ',int(y_1[0])-int(x_1[0]),'days in between ', x,' and ',y)\n",
    "    else:\n",
    "        if (int(y_1[1]) - int(x_1[1])) == 1:\n",
    "            print('There are ',(30-int(x_1[0]))+(30-int(y_1[0])),'days in between ', x,' and ',y)\n",
    "        else:\n",
    "            print('There are ',((30-int(x_1[0]))+(30-int(y_1[0])))+((int(y_1[1])-int(x_1[1]))-1)*30,'days in between ', x,' and ', y)\n",
    "else:\n",
    "    if (int(y_1[2]) - int(x_1[2])) == 1:\n",
    "        print('There are ',(30-int(x_1[0]))+((12-int(x_1[1]))*30)+((int(y_1[1])-1)*30)+int(y_1[0]),'days in between ', x,' and ', y)\n",
    "    else:\n",
    "        print('There are ',(30-int(x_1[0]))+((12-int(x_1[1]))*30)+((int(y_1[1])-1)*30)+int(y_1[0])+((int(y_1[2])-int(x_1[2]))-1)*12*30,' between ', x,' and ', y )"
   ]
  },
  {
   "cell_type": "code",
   "execution_count": 22,
   "metadata": {},
   "outputs": [
    {
     "name": "stdout",
     "output_type": "stream",
     "text": [
      "Enter Radius Of Sphere: 1\n",
      "Volume of the Sphere with Radius 1 is 4.19047619047619\n"
     ]
    }
   ],
   "source": [
    "#Question-5: Calculate Volume of a sphere\n",
    "x=int(input(\"Enter Radius Of Sphere: \"))\n",
    "y=(4/3) * (22/7) * (x**3)\n",
    "print(\"Volume of the Sphere with Radius\", x,\"is\", y)"
   ]
  },
  {
   "cell_type": "code",
   "execution_count": 21,
   "metadata": {},
   "outputs": [
    {
     "name": "stdout",
     "output_type": "stream",
     "text": [
      "Enter String: Hi\n",
      "How many copies of string you need: 4\n",
      "4 copies of Hi are HiHiHiHi\n"
     ]
    }
   ],
   "source": [
    "#Question-6: Copy String n times\n",
    "x=input(\"Enter String: \")\n",
    "y=int(input(\"How many copies of string you need: \"))\n",
    "copies=x*y\n",
    "print(y, \"copies\", \"of\", x,\"are\", copies,)"
   ]
  },
  {
   "cell_type": "code",
   "execution_count": 19,
   "metadata": {},
   "outputs": [
    {
     "name": "stdout",
     "output_type": "stream",
     "text": [
      "Sample Output 1: \n",
      "Enter number: 4\n",
      "4 is Even\n",
      "\n",
      "Sample Output 2: \n",
      "Enter number: 9\n",
      "9 is Odd\n"
     ]
    }
   ],
   "source": [
    "#Question-7: Check if number is Even or Odd\n",
    "print(\"Sample Output 1: \")\n",
    "x=int(input(\"Enter number: \"))\n",
    "if x % 2 == 0:\n",
    "    print(x,'is Even')\n",
    "else:\n",
    "    print(x,'is Odd')\n",
    "print()\n",
    "print(\"Sample Output 2: \")\n",
    "x=int(input(\"Enter number: \"))\n",
    "if x % 2 == 0:\n",
    "    print(x,'is Even')\n",
    "else:\n",
    "    print(x,'is Odd')"
   ]
  },
  {
   "cell_type": "code",
   "execution_count": 18,
   "metadata": {
    "scrolled": true
   },
   "outputs": [
    {
     "name": "stdout",
     "output_type": "stream",
     "text": [
      "Output 1:\n",
      "Enter a character: A\n",
      "Letter A is  Vowel.\n",
      "\n",
      "Output 2: \n",
      "Enter a character: e\n",
      "Letter e is  Vowel.\n",
      "\n",
      "Output 3: \n",
      "Enter a character: N\n",
      "Letter N is not  Vowel.\n"
     ]
    }
   ],
   "source": [
    "#Question-8: Vowel Tester\n",
    "print(\"Output 1:\")\n",
    "x = input(\"Enter a character: \");\n",
    "if x == '0':\n",
    "    exit();\n",
    "else:\n",
    "    if(x=='a' or x=='A' or x=='e' or x=='E' or x=='i' or x=='I'\n",
    "       or x=='o' or x=='O' or x=='u' or x=='U'):\n",
    "         print(\"Letter\", x, \"is  Vowel.\");\n",
    "    else:\n",
    "        print(\"Letter\", x, \"is not  Vowel.\");\n",
    "        \n",
    "print()\n",
    "\n",
    "print(\"Output 2: \")\n",
    "x = input(\"Enter a character: \");\n",
    "if x == '0':\n",
    "    exit();\n",
    "else:\n",
    "    if(x=='a' or x=='A' or x=='e' or x=='E' or x=='i' or x=='I'\n",
    "       or x=='o' or x=='O' or x=='u' or x=='U'):\n",
    "         print(\"Letter\", x, \"is  Vowel.\");\n",
    "    else:\n",
    "        print(\"Letter\", x, \"is not  Vowel.\");\n",
    "        \n",
    "print()        \n",
    "       \n",
    "print(\"Output 3: \")\n",
    "x = input(\"Enter a character: \");\n",
    "if x == '0':\n",
    "    exit();\n",
    "else:\n",
    "    if(x=='a' or x=='A' or x=='e' or x=='E' or x=='i' or x=='I'\n",
    "       or x=='o' or x=='O' or x=='u' or x=='U'):\n",
    "         print(\"Letter\", x, \"is  Vowel.\");\n",
    "    else:\n",
    "        print(\"Letter\", x, \"is not  Vowel.\");"
   ]
  },
  {
   "cell_type": "code",
   "execution_count": 17,
   "metadata": {},
   "outputs": [
    {
     "name": "stdout",
     "output_type": "stream",
     "text": [
      "Enter magnitude of Triangle base: 4\n",
      "Enter magnitude of Triangle Height: 4\n",
      "Area of a Triangle with Height 4 and Base 4 is 8.0\n"
     ]
    }
   ],
   "source": [
    "#Question-9: Triangle Area\n",
    "base=int(input(\"Enter magnitude of Triangle base: \"))\n",
    "height=int(input(\"Enter magnitude of Triangle Height: \"))\n",
    "area=(base*height)/2\n",
    "print(\"Area of a Triangle with Height\", height,\"and Base\", base,\"is\", area)"
   ]
  },
  {
   "cell_type": "code",
   "execution_count": 16,
   "metadata": {},
   "outputs": [
    {
     "name": "stdout",
     "output_type": "stream",
     "text": [
      "Please enter principle amount: 10000\n",
      "Please enter rate of interest in %: 0.1\n",
      "Enter number of years for invesment: 5\n",
      "After 5 years your principal amount 10000 Over an interest rate of 0.1 % will be 16105.100000000006\n"
     ]
    }
   ],
   "source": [
    "#Question-10: Calculate Interest\n",
    "amount=int(input(\"Please enter principle amount: \"))\n",
    "interest=float(input(\"Please enter rate of interest in %: \"))\n",
    "investment=int(input(\"Enter number of years for invesment: \"))\n",
    "future_value=amount*((1+interest)**investment)\n",
    "print(\"After\", investment,\"years your principal amount\", amount,\"Over an interest rate of\", interest,\"%\" ,\"will be\", future_value)"
   ]
  },
  {
   "cell_type": "code",
   "execution_count": 15,
   "metadata": {},
   "outputs": [
    {
     "name": "stdout",
     "output_type": "stream",
     "text": [
      "Enter Co-ordinate for x1: 2\n",
      "Enter Co-ordinate for x2: 4\n",
      "Enter Co-ordinate for y1: 4\n",
      "Enter Co-ordinate for y2: 4\n",
      "Distance between points (2,4) and (4,4) is 2.0\n"
     ]
    }
   ],
   "source": [
    "#Question-11: Euclidean Distance\n",
    "x1=int(input(\"Enter Co-ordinate for x1: \"))\n",
    "x2=int(input(\"Enter Co-ordinate for x2: \"))\n",
    "y1=int(input(\"Enter Co-ordinate for y1: \"))\n",
    "y2=int(input(\"Enter Co-ordinate for y2: \"))\n",
    "distance = (((x2-x1)**2) + ((y2-y1)**2))**0.5\n",
    "print(\"Distance between points (\"+str(x1)+\",\"+str(y1)+\") and (\"+str(x2)+\",\"+str(y2)+\")\"+\" is \"+str(distance)) "
   ]
  },
  {
   "cell_type": "code",
   "execution_count": 14,
   "metadata": {},
   "outputs": [
    {
     "name": "stdout",
     "output_type": "stream",
     "text": [
      "Enter Height in Feet: 5\n",
      "There are 152.4 Cm in 5 ft\n"
     ]
    }
   ],
   "source": [
    "#Question-12: Feet to Centimeter Converter\n",
    "feet=int(input(\"Enter Height in Feet: \"))\n",
    "cm=feet*30.48\n",
    "print(\"There are\", cm,\"Cm in\", feet,\"ft\")"
   ]
  },
  {
   "cell_type": "code",
   "execution_count": 13,
   "metadata": {},
   "outputs": [
    {
     "name": "stdout",
     "output_type": "stream",
     "text": [
      "Enter Height in Cm: 180\n",
      "Enter Wieght in Kg: 75\n",
      "Your BMI is 23.148148148148145\n"
     ]
    }
   ],
   "source": [
    "#Question-13: BMI Calculator\n",
    "height=int(input(\"Enter Height in Cm: \"))\n",
    "weight=int(input(\"Enter Wieght in Kg: \"))\n",
    "bmi= (weight/height**2)*10000\n",
    "print(\"Your BMI is\", bmi)"
   ]
  },
  {
   "cell_type": "code",
   "execution_count": 12,
   "metadata": {},
   "outputs": [
    {
     "name": "stdout",
     "output_type": "stream",
     "text": [
      "Enter value of n: 5\n",
      "Sum of n Positive integers till 5 is 15\n"
     ]
    }
   ],
   "source": [
    "#Question-14: Sum of n Positive Integers\n",
    "x=int(input(\"Enter value of n: \"))\n",
    "x1=0\n",
    "for i in range(1,x+1):\n",
    "    x1=x1 + i\n",
    "print('Sum of n Positive integers till', x,'is', x1)    \n"
   ]
  },
  {
   "cell_type": "code",
   "execution_count": 11,
   "metadata": {},
   "outputs": [
    {
     "name": "stdout",
     "output_type": "stream",
     "text": [
      "Console Sample 1:\n",
      "Enter a number: 15\n",
      "Sum of 15 is 6\n",
      "\n",
      "Console Sample 2:\n",
      "Enter a number: 1234\n",
      "Sum of 1234 is 10\n"
     ]
    }
   ],
   "source": [
    "#Question-15: Digits Sum of a Number\n",
    "print(\"Console Sample 1:\")\n",
    "x=input(\"Enter a number: \")\n",
    "x1=0\n",
    "for i in range(0,len(x)):\n",
    "    x1=x1 + int(x[i])\n",
    "print(\"Sum of\", x,\"is\", x1)\n",
    "print()\n",
    "print(\"Console Sample 2:\")\n",
    "x=input(\"Enter a number: \")\n",
    "x1=0\n",
    "for i in range(0,len(x)):\n",
    "    x1=x1 + int(x[i])\n",
    "print(\"Sum of\", x,\"is\", x1)"
   ]
  },
  {
   "cell_type": "code",
   "execution_count": 3,
   "metadata": {},
   "outputs": [
    {
     "name": "stdout",
     "output_type": "stream",
     "text": [
      "Sample 1: \n",
      "Enter a decimal number: 5\n",
      "Binary Representation of 5 is 0b101\n",
      "\n",
      "Sample 2: \n",
      "\n",
      "Enter a decimal number: 32\n",
      "Binary Representation of 32 is 0b100000\n"
     ]
    }
   ],
   "source": [
    "#Question-16: Decimal to Binary Converter\n",
    "print(\"Sample 1: \")\n",
    "x=int(input(\"Enter a decimal number: \"))\n",
    "print(\"Binary Representation of\", x,\"is\", bin(x))\n",
    "print()\n",
    "print(\"Sample 2: \")\n",
    "print()\n",
    "x=int(input(\"Enter a decimal number: \"))\n",
    "print(\"Binary Representation of\", x,\"is\", bin(x))"
   ]
  },
  {
   "cell_type": "code",
   "execution_count": 1,
   "metadata": {},
   "outputs": [
    {
     "name": "stdout",
     "output_type": "stream",
     "text": [
      "Sample 1: \n",
      "Enter a Binary number: 1101\n",
      "Decimal Representation of 1101 is 13\n",
      "\n",
      "Sample 2: \n",
      "\n",
      "Enter a Binary number: 1001\n",
      "Decimal Representation of 1001 is 9\n"
     ]
    }
   ],
   "source": [
    "#Question-17: Binary To Decimal Converter\n",
    "print(\"Sample 1: \")\n",
    "x=input(\"Enter a Binary number: \")\n",
    "y=int(x,2)\n",
    "print('Decimal Representation of', x,'is', y)\n",
    "print()\n",
    "print(\"Sample 2: \")\n",
    "print()\n",
    "x=input(\"Enter a Binary number: \")\n",
    "y=int(x,2)\n",
    "print('Decimal Representation of', x,'is', y)"
   ]
  },
  {
   "cell_type": "code",
   "execution_count": 10,
   "metadata": {},
   "outputs": [
    {
     "name": "stdout",
     "output_type": "stream",
     "text": [
      "Enter text: QuickBrownFoxJumpsovertheDog\n",
      "Vowels 9\n",
      "Consonants:  19\n"
     ]
    }
   ],
   "source": [
    "#Question-18: Vowel and Consonants Counter\n",
    "x = input(\"Enter text: \");\n",
    "vowels = 0\n",
    "consonants = 0\n",
    "\n",
    "for i in x:\n",
    "    if(i == 'a' or i == 'e' or i == 'i' or i == 'o' or i == 'u'\n",
    "       or i == 'A' or i == 'E' or i == 'I' or i == 'O' or i == 'U'):\n",
    "        vowels = vowels + 1\n",
    "    else:\n",
    "        consonants = consonants + 1\n",
    "        \n",
    "        \n",
    "        \n",
    "print(\"Vowels\", vowels)\n",
    "print(\"Consonants: \", consonants)"
   ]
  },
  {
   "cell_type": "code",
   "execution_count": 5,
   "metadata": {},
   "outputs": [
    {
     "name": "stdout",
     "output_type": "stream",
     "text": [
      "Console Sample 1: \n",
      "Enter Text: AHA\n",
      "Text AHA is Palindrome\n",
      "\n",
      "Console Sample 2: \n",
      "Enter Text: Hello\n",
      "Text Hello is not Palindrome\n"
     ]
    }
   ],
   "source": [
    "#Question-19: Palindrome Tester\n",
    "print(\"Console Sample 1: \")\n",
    "x=input(\"Enter Text: \")\n",
    "j = len(x) - 1\n",
    "middle = int(len(x) / 2)\n",
    "check = True\n",
    "for i in range(0,middle):\n",
    "    if x[i].upper() != x[j].upper() or x[i].lower() != x[j].lower():\n",
    "        check = False\n",
    "        break\n",
    "    j=j-1\n",
    "if(check):\n",
    "    print('Text',x,'is Palindrome')\n",
    "else:\n",
    "    print('Text',x,'is not a Palindrome')\n",
    "print()\n",
    "print(\"Console Sample 2: \")\n",
    "x=input(\"Enter Text: \")\n",
    "j = len(x) - 1\n",
    "middle = int(len(x) / 2)\n",
    "check = True\n",
    "for i in range(0,middle):\n",
    "    if x[i].upper() != x[j].upper() or x[i].lower() != x[j].lower():\n",
    "        check = False\n",
    "        break\n",
    "    j=j-1\n",
    "if(check):\n",
    "    print('Text',x,'is Palindrome')\n",
    "else:\n",
    "    print('Text',x,'is not a Palindrome')"
   ]
  },
  {
   "cell_type": "code",
   "execution_count": 6,
   "metadata": {},
   "outputs": [
    {
     "name": "stdout",
     "output_type": "stream",
     "text": [
      "Enter text: Python 3.2\n",
      "Numbers = 2\n",
      "Alphabets = 6\n",
      "Special Characters = 1\n",
      "Spaces = 1\n"
     ]
    }
   ],
   "source": [
    "#Question-20: Count Alphabets, Numbers and Special Characters\n",
    "import string\n",
    "x=input(\"Enter text: \")\n",
    "number_of_alphabet = 0\n",
    "number_of_special_character = 0\n",
    "number_of_numbers = 0\n",
    "number_of_spaces = 0\n",
    "special_char = string.punctuation\n",
    "char = ''\n",
    "for i in range(0,len(x)):\n",
    "    if x[i].isalpha():\n",
    "        number_of_alphabet = number_of_alphabet + 1\n",
    "    elif x[i] == ' ':\n",
    "        number_of_spaces = number_of_spaces + 1\n",
    "    elif x[i] in special_char:\n",
    "        number_of_special_character = number_of_special_character + 1\n",
    "    else:\n",
    "        try:\n",
    "            temp = int(x[i])\n",
    "            number_of_numbers = number_of_numbers + 1\n",
    "        except:\n",
    "            pass\n",
    "\n",
    "print('Numbers =',number_of_numbers)\n",
    "print('Alphabets =',number_of_alphabet)\n",
    "print('Special Characters =',number_of_special_character)\n",
    "print('Spaces =',number_of_spaces)"
   ]
  },
  {
   "cell_type": "code",
   "execution_count": 7,
   "metadata": {},
   "outputs": [
    {
     "name": "stdout",
     "output_type": "stream",
     "text": [
      "*\n",
      "**\n",
      "***\n",
      "****\n",
      "*****\n",
      "****\n",
      "***\n",
      "**\n",
      "*\n"
     ]
    }
   ],
   "source": [
    "#Question-21\n",
    "print('*')\n",
    "print('*' * 2)\n",
    "print('*' * 3)\n",
    "print('*' * 4)\n",
    "print('*' * 5)\n",
    "print('*' * 4)\n",
    "print('*' * 3)\n",
    "print('*' * 2)\n",
    "print('*')"
   ]
  },
  {
   "cell_type": "code",
   "execution_count": 8,
   "metadata": {},
   "outputs": [
    {
     "name": "stdout",
     "output_type": "stream",
     "text": [
      "1\n",
      "1 2\n",
      "1 2 3\n",
      "1 2 3 4\n",
      "1 2 3 4 5\n",
      "1 2 3 4\n",
      "1 2 3\n",
      "1 2\n"
     ]
    }
   ],
   "source": [
    "#Question-22:\n",
    "x=(\"1\\n1 2\\n1 2 3\\n1 2 3 4\\n1 2 3 4 5\\n1 2 3 4\\n1 2 3\\n1 2\")\n",
    "print(x)"
   ]
  },
  {
   "cell_type": "code",
   "execution_count": 9,
   "metadata": {},
   "outputs": [
    {
     "name": "stdout",
     "output_type": "stream",
     "text": [
      "1\n",
      "22\n",
      "333\n",
      "4444\n",
      "55555\n",
      "666666\n",
      "7777777\n",
      "88888888\n",
      "999999999\n"
     ]
    }
   ],
   "source": [
    "#Question-23\n",
    "print(1)\n",
    "print('2' * 2)\n",
    "print('3' * 3)\n",
    "print('4' * 4)\n",
    "print('5' * 5)\n",
    "print('6' * 6)\n",
    "print('7' * 7)\n",
    "print('8' * 8)\n",
    "print('9' * 9)"
   ]
  },
  {
   "cell_type": "code",
   "execution_count": null,
   "metadata": {},
   "outputs": [],
   "source": []
  }
 ],
 "metadata": {
  "kernelspec": {
   "display_name": "Python 3",
   "language": "python",
   "name": "python3"
  },
  "language_info": {
   "codemirror_mode": {
    "name": "ipython",
    "version": 3
   },
   "file_extension": ".py",
   "mimetype": "text/x-python",
   "name": "python",
   "nbconvert_exporter": "python",
   "pygments_lexer": "ipython3",
   "version": "3.7.3"
  }
 },
 "nbformat": 4,
 "nbformat_minor": 2
}
