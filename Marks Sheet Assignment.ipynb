{
 "cells": [
  {
   "cell_type": "code",
   "execution_count": 2,
   "metadata": {},
   "outputs": [
    {
     "name": "stdout",
     "output_type": "stream",
     "text": [
      "Enter Your Name: Nasir Mumtaz\n",
      "Enter Your Father Name: Muhammad Mumtaz Khan\n",
      "Enter Your Department: Statistics\n",
      "Enter Your Roll Number: H1524058\n",
      "Enter the marks of English subject: 78\n",
      "Enter the marks of Math subject: 52\n",
      "Enter the marks of Statistics subject: 75\n",
      "Enter the marks of Geography subject: 65\n",
      "Enter the marks of Urdu subject: 65\n"
     ]
    }
   ],
   "source": [
    "print = (\"First Semester Grading\")\n",
    "first_name = input(\"Enter Your Name: \");\n",
    "father_name = input(\"Enter Your Father Name: \");\n",
    "department = input(\"Enter Your Department: \");\n",
    "roll_number = input(\"Enter Your Roll Number: \");\n",
    "subject1=int(input(\"Enter the marks of English subject: \"))\n",
    "subject2=int(input(\"Enter the marks of Math subject: \"))\n",
    "subject3=int(input(\"Enter the marks of Statistics subject: \"))\n",
    "subject4=int(input(\"Enter the marks of Geography subject: \"))\n",
    "subject5=int(input(\"Enter the marks of Urdu subject: \"))\n",
    "\n",
    "total = (subject1+subject2+subject3+subject4+subject5)\n",
    "average = (total)/5\n",
    "percentage = (total/5)*100\n",
    "\n",
    "if(percentage >= 80):\n",
    "    print = (\"Your Grade is : A.0ne\")\n",
    "    print = ('Your Percentage is:' , percentage)\n",
    "    print = (\"Your Average Marks is:\" , average)\n",
    "   \n",
    "elif(percentage >= 70 and percentage < 80 ):\n",
    "    print = (\"Your Grade is : A\")\n",
    "    print = ('Your Percentage is:' , percentage)\n",
    "    print = (\"Your Average Marks is:\" , average)\n",
    "    \n",
    "elif(percentage >= 60 and percentage < 70 ):\n",
    "    print = (\"Your Grade is : B\")\n",
    "    print = ('Your Percentage is:' , percentage)\n",
    "    print = (\"Your Average Marks is:\" , average)\n",
    "    \n",
    "else:\n",
    "    print = (\"Your Grade is : C\")\n",
    "    print = ('Your Percentage is:' , percentage)\n",
    "    print = (\"Your Average Marks is:\" , average)\n",
    "    \n",
    "\n",
    "\n",
    "\n"
   ]
  },
  {
   "cell_type": "code",
   "execution_count": null,
   "metadata": {},
   "outputs": [],
   "source": []
  },
  {
   "cell_type": "code",
   "execution_count": null,
   "metadata": {},
   "outputs": [],
   "source": []
  }
 ],
 "metadata": {
  "kernelspec": {
   "display_name": "Python 3",
   "language": "python",
   "name": "python3"
  },
  "language_info": {
   "codemirror_mode": {
    "name": "ipython",
    "version": 3
   },
   "file_extension": ".py",
   "mimetype": "text/x-python",
   "name": "python",
   "nbconvert_exporter": "python",
   "pygments_lexer": "ipython3",
   "version": "3.7.3"
  }
 },
 "nbformat": 4,
 "nbformat_minor": 2
}
