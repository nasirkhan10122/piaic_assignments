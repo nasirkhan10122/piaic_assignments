{
 "cells": [
  {
   "cell_type": "code",
   "execution_count": 7,
   "metadata": {},
   "outputs": [
    {
     "name": "stdout",
     "output_type": "stream",
     "text": [
      "Student Name: Nasir Mumtaz\n",
      "Student Father Name: Muhammad Mumtaz Khan\n",
      "Student Department: Statitics\n",
      "Student Roll Number: AIC004753\n",
      "Marks of English subject: 75\n",
      "Marks of Math subject: 89\n",
      "Marks of Statistics subject: 84\n",
      "Marks of Geography subject: 78\n",
      "Marks of Urdu subject: 65\n"
     ]
    }
   ],
   "source": [
    "print=('First Semester Grading')\n",
    "first_name = input(\"Student Name: \");\n",
    "father_name = input(\"Student Father Name: \");\n",
    "department = input(\"Student Department: \");\n",
    "roll_number = input(\"Student Roll Number: \");\n",
    "subject1=int(input(\"Marks of English subject: \"))\n",
    "subject2=int(input(\"Marks of Math subject: \"))\n",
    "subject3=int(input(\"Marks of Statistics subject: \"))\n",
    "subject4=int(input(\"Marks of Geography subject: \"))\n",
    "subject5=int(input(\"Marks of Urdu subject: \"))\n",
    "\n",
    "total = (subject1+subject2+subject3+subject4+subject5)\n",
    "average = (total)/5\n",
    "percentage = (total/5)*100\n",
    "\n",
    "if(percentage >= 80):\n",
    "    print = (\"Your Grade is : A.0ne\")\n",
    "    print = ('Your Percentage is:' , percentage)\n",
    "    print = (\"Your Average Marks is:\" , average)\n",
    "   \n",
    "elif(percentage >= 70 and percentage < 80 ):\n",
    "    print = (\"Your Grade is : A\")\n",
    "    print = ('Your Percentage is:' , percentage)\n",
    "    print = (\"Your Average Marks is:\" , average)\n",
    "    \n",
    "elif(percentage >= 60 and percentage < 70 ):\n",
    "    print = (\"Your Grade is : B\")\n",
    "    print = ('Your Percentage is:' , percentage)\n",
    "    print = (\"Your Average Marks is:\" , average)\n",
    "    \n",
    "else:\n",
    "    print = (\"Your Grade is : C\")\n",
    "    print = ('Your Percentage is:' , percentage)\n",
    "    print = (\"Your Average Marks is:\" , average)\n",
    "    \n",
    "\n",
    "\n",
    "\n"
   ]
  }
 ],
 "metadata": {
  "kernelspec": {
   "display_name": "Python 3",
   "language": "python",
   "name": "python3"
  },
  "language_info": {
   "codemirror_mode": {
    "name": "ipython",
    "version": 3
   },
   "file_extension": ".py",
   "mimetype": "text/x-python",
   "name": "python",
   "nbconvert_exporter": "python",
   "pygments_lexer": "ipython3",
   "version": "3.7.3"
  }
 },
 "nbformat": 4,
 "nbformat_minor": 2
}
