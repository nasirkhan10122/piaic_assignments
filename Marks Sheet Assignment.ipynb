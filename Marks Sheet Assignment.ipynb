{
 "cells": [
  {
   "cell_type": "code",
   "execution_count": 1,
   "metadata": {},
   "outputs": [
    {
     "name": "stdout",
     "output_type": "stream",
     "text": [
      "First Semester Grading\n",
      "Student Name: Nasir Mumtaz\n",
      "Student Father Name: Muhammad Mumtaz Khan\n",
      "Student Department: Statistics\n",
      "Student Roll Number: AIC004753\n",
      "Marks of English subject: 87\n",
      "Marks of Math subject: 76\n",
      "Marks of Statistics subject: 65\n",
      "Marks of Geography subject: 67\n",
      "Marks of Urdu subject: 64\n",
      "Your Grade is : A\n",
      "Your Percentage is: 71.8\n",
      "Your Average Marks is: 71.8\n",
      "\n",
      "Congragulations\n"
     ]
    }
   ],
   "source": [
    "print('First Semester Grading')\n",
    "first_name = input(\"Student Name: \");\n",
    "father_name = input(\"Student Father Name: \");\n",
    "department = input(\"Student Department: \");\n",
    "roll_number = input(\"Student Roll Number: \");\n",
    "subject1=int(input(\"Marks of English subject: \"))\n",
    "subject2=int(input(\"Marks of Math subject: \"))\n",
    "subject3=int(input(\"Marks of Statistics subject: \"))\n",
    "subject4=int(input(\"Marks of Geography subject: \"))\n",
    "subject5=int(input(\"Marks of Urdu subject: \"))\n",
    "\n",
    "greetings = (\"Congragulations\")\n",
    "comment = (\" Sorry Better Luck Next Time\")\n",
    "total = (subject1+subject2+subject3+subject4+subject5)\n",
    "average = (total)/5\n",
    "percentage = (total/500)*100\n",
    "\n",
    "if(percentage >= 80):\n",
    "    print(\"Your Grade is : A.0ne\")\n",
    "    print('Your Percentage is:' , percentage)\n",
    "    print(\"Your Average Marks is:\" , average)\n",
    "    print()\n",
    "    print(greetings)\n",
    "   \n",
    "elif(percentage >= 70 and percentage < 80 ):\n",
    "    print(\"Your Grade is : A\")\n",
    "    print('Your Percentage is:' , percentage)\n",
    "    print(\"Your Average Marks is:\" , average)\n",
    "    print()\n",
    "    print(greetings)\n",
    "    \n",
    "elif(percentage >= 60 and percentage < 70 ):\n",
    "    print(\"Your Grade is : B\")\n",
    "    print('Your Percentage is:' , percentage)\n",
    "    print(\"Your Average Marks is:\" , average)\n",
    "    print()\n",
    "    print(greetings)\n",
    "    \n",
    "else:\n",
    "    print(\"Your Grade is : C\")\n",
    "    print('Your Percentage is:' , percentage)\n",
    "    print(\"Your Average Marks is:\" , average)\n",
    "    print()\n",
    "    print(comment)\n",
    "    \n",
    "\n",
    "\n",
    "\n"
   ]
  },
  {
   "cell_type": "code",
   "execution_count": null,
   "metadata": {},
   "outputs": [],
   "source": []
  },
  {
   "cell_type": "code",
   "execution_count": null,
   "metadata": {},
   "outputs": [],
   "source": []
  }
 ],
 "metadata": {
  "kernelspec": {
   "display_name": "Python 3",
   "language": "python",
   "name": "python3"
  },
  "language_info": {
   "codemirror_mode": {
    "name": "ipython",
    "version": 3
   },
   "file_extension": ".py",
   "mimetype": "text/x-python",
   "name": "python",
   "nbconvert_exporter": "python",
   "pygments_lexer": "ipython3",
   "version": "3.7.3"
  }
 },
 "nbformat": 4,
 "nbformat_minor": 2
}
